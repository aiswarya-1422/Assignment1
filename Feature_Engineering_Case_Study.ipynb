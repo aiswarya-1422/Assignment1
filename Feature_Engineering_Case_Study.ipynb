{
  "nbformat": 4,
  "nbformat_minor": 0,
  "metadata": {
    "colab": {
      "provenance": [],
      "include_colab_link": true
    },
    "kernelspec": {
      "name": "python3",
      "display_name": "Python 3"
    },
    "language_info": {
      "name": "python"
    }
  },
  "cells": [
    {
      "cell_type": "markdown",
      "metadata": {
        "id": "view-in-github",
        "colab_type": "text"
      },
      "source": [
        "<a href=\"https://colab.research.google.com/github/aiswarya-1422/Assignment1/blob/main/Feature_Engineering_Case_Study.ipynb\" target=\"_parent\"><img src=\"https://colab.research.google.com/assets/colab-badge.svg\" alt=\"Open In Colab\"/></a>"
      ]
    },
    {
      "cell_type": "markdown",
      "source": [
        "## Use Heart Disease [Dataset](https://github.com/cksajil/DSAIRP25/blob/main/datasets/heart_disease.csv) and answer the following questions"
      ],
      "metadata": {
        "id": "97V1aD4PHw_5"
      }
    },
    {
      "cell_type": "markdown",
      "source": [
        "## 1. Find the top 5 important features to the target column"
      ],
      "metadata": {
        "id": "dSQarmgHH93D"
      }
    },
    {
      "cell_type": "code",
      "execution_count": 11,
      "metadata": {
        "id": "RMWtFKt6HpQR",
        "colab": {
          "base_uri": "https://localhost:8080/",
          "height": 241
        },
        "outputId": "9516f792-edde-449d-fc52-90209b48a03c"
      },
      "outputs": [
        {
          "output_type": "execute_result",
          "data": {
            "text/plain": [
              "target     1.000000\n",
              "cp         0.434854\n",
              "thalach    0.422895\n",
              "slope      0.345512\n",
              "restecg    0.134468\n",
              "Name: target, dtype: float64"
            ],
            "text/html": [
              "<div>\n",
              "<style scoped>\n",
              "    .dataframe tbody tr th:only-of-type {\n",
              "        vertical-align: middle;\n",
              "    }\n",
              "\n",
              "    .dataframe tbody tr th {\n",
              "        vertical-align: top;\n",
              "    }\n",
              "\n",
              "    .dataframe thead th {\n",
              "        text-align: right;\n",
              "    }\n",
              "</style>\n",
              "<table border=\"1\" class=\"dataframe\">\n",
              "  <thead>\n",
              "    <tr style=\"text-align: right;\">\n",
              "      <th></th>\n",
              "      <th>target</th>\n",
              "    </tr>\n",
              "  </thead>\n",
              "  <tbody>\n",
              "    <tr>\n",
              "      <th>target</th>\n",
              "      <td>1.000000</td>\n",
              "    </tr>\n",
              "    <tr>\n",
              "      <th>cp</th>\n",
              "      <td>0.434854</td>\n",
              "    </tr>\n",
              "    <tr>\n",
              "      <th>thalach</th>\n",
              "      <td>0.422895</td>\n",
              "    </tr>\n",
              "    <tr>\n",
              "      <th>slope</th>\n",
              "      <td>0.345512</td>\n",
              "    </tr>\n",
              "    <tr>\n",
              "      <th>restecg</th>\n",
              "      <td>0.134468</td>\n",
              "    </tr>\n",
              "  </tbody>\n",
              "</table>\n",
              "</div><br><label><b>dtype:</b> float64</label>"
            ]
          },
          "metadata": {},
          "execution_count": 11
        }
      ],
      "source": [
        "import numpy as np\n",
        "import pandas as pd\n",
        "import matplotlib.pyplot as plt\n",
        "import seaborn as sns\n",
        "df=pd.read_csv('heart_disease.csv')\n",
        "df.head()\n",
        "corr = df.corr()\n",
        "corr.style.background_gradient(cmap='coolwarm')\n",
        "sorted_corr = corr.target.sort_values(ascending=False)\n",
        "sorted_corr\n",
        "sorted_corr.head(5)\n"
      ]
    },
    {
      "cell_type": "markdown",
      "source": [
        "## 2. Perform Box-Cox Transformations to relevant features"
      ],
      "metadata": {
        "id": "imoVr9ncIJON"
      }
    },
    {
      "cell_type": "code",
      "source": [
        "from scipy import stats\n",
        "numerical_features = df.select_dtypes(include=np.number).columns.tolist()\n",
        "features_to_transform = [f for f in numerical_features if f not in ['target', 'sex', 'fbs', 'exang', 'restecg', 'ca', 'thal']]\n",
        "for feature in features_to_transform:\n",
        "    if (df[feature] > 0).all():\n",
        "      df[feature], _ = stats.boxcox(df[feature])\n",
        "    else:\n",
        "        print(f\"Skipping Box-Cox transformation for '{feature}' as it contains non-positive values.\")\n",
        "print(\"\\nDataFrame after applying Box-Cox transformations:\")\n",
        "print(df.head())"
      ],
      "metadata": {
        "colab": {
          "base_uri": "https://localhost:8080/"
        },
        "id": "EcRe7ba4Qn-d",
        "outputId": "7a76dd82-f3f2-427f-ed56-49a488f91399"
      },
      "execution_count": 13,
      "outputs": [
        {
          "output_type": "stream",
          "name": "stdout",
          "text": [
            "Skipping Box-Cox transformation for 'cp' as it contains non-positive values.\n",
            "Skipping Box-Cox transformation for 'oldpeak' as it contains non-positive values.\n",
            "Skipping Box-Cox transformation for 'slope' as it contains non-positive values.\n",
            "\n",
            "DataFrame after applying Box-Cox transformations:\n",
            "          age  sex  cp  trestbps      chol  fbs  restecg       thalach  exang  \\\n",
            "0  271.022426    1   0  0.326596  3.437567    0        1  31302.761017      0   \n",
            "1  279.066773    1   0  0.329893  3.408243    1        0  26279.867742      1   \n",
            "2  427.580007    1   0  0.330859  3.303150    0        1  16471.717088      1   \n",
            "3  346.254970    1   0  0.331412  3.408243    0        1  28539.281170      0   \n",
            "4  354.997982    0   0  0.329489  3.655097    1        1  11514.106856      0   \n",
            "\n",
            "   oldpeak  slope  ca  thal  target  \n",
            "0      1.0      2   2     3       0  \n",
            "1      3.1      0   0     3       0  \n",
            "2      2.6      0   0     3       0  \n",
            "3      0.0      2   1     3       0  \n",
            "4      1.9      1   3     2       0  \n"
          ]
        }
      ]
    },
    {
      "cell_type": "markdown",
      "source": [
        "## 3. Perform Feature Binning to Age Column and add it as a new column to the dataset"
      ],
      "metadata": {
        "id": "RWyCYg3OIcX7"
      }
    },
    {
      "cell_type": "code",
      "source": [
        "df['age_binned'] = pd.cut(df['age'], bins=5, labels=False)\n",
        "print(\"\\nDataFrame with Age Binning column:\")\n",
        "print(df[['age', 'age_binned']].head())"
      ],
      "metadata": {
        "colab": {
          "base_uri": "https://localhost:8080/"
        },
        "id": "dtXQ826ZQmwg",
        "outputId": "1dc59c60-5a15-4928-a377-5ef005cae667"
      },
      "execution_count": 14,
      "outputs": [
        {
          "output_type": "stream",
          "name": "stdout",
          "text": [
            "\n",
            "DataFrame with Age Binning column:\n",
            "          age  age_binned\n",
            "0  271.022426           2\n",
            "1  279.066773           2\n",
            "2  427.580007           4\n",
            "3  346.254970           3\n",
            "4  354.997982           3\n"
          ]
        }
      ]
    },
    {
      "cell_type": "markdown",
      "source": [
        "## 4. Find the most orthogonal feature to the 'chol' feature"
      ],
      "metadata": {
        "id": "BkXOa5r2IkAh"
      }
    },
    {
      "cell_type": "code",
      "source": [
        "correlation_matrix = df.corr()\n",
        "chol_correlations = correlation_matrix['chol'].drop('chol')\n",
        "most_orthogonal_feature = chol_correlations.abs().idxmin()\n",
        "print(f\"\\nThe most orthogonal feature to 'chol' is: {most_orthogonal_feature}\")"
      ],
      "metadata": {
        "id": "TGjUk6IwI1Ea",
        "colab": {
          "base_uri": "https://localhost:8080/"
        },
        "outputId": "afb28578-5396-487c-d3af-0451c6d94b15"
      },
      "execution_count": 15,
      "outputs": [
        {
          "output_type": "stream",
          "name": "stdout",
          "text": [
            "\n",
            "The most orthogonal feature to 'chol' is: slope\n"
          ]
        }
      ]
    }
  ]
}