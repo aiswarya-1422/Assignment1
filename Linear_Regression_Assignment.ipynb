{
  "cells": [
    {
      "cell_type": "markdown",
      "metadata": {
        "id": "view-in-github",
        "colab_type": "text"
      },
      "source": [
        "<a href=\"https://colab.research.google.com/github/aiswarya-1422/ictak/blob/main/Linear_Regression_Assignment.ipynb\" target=\"_parent\"><img src=\"https://colab.research.google.com/assets/colab-badge.svg\" alt=\"Open In Colab\"/></a>"
      ]
    },
    {
      "cell_type": "markdown",
      "id": "ff58753a",
      "metadata": {
        "id": "ff58753a"
      },
      "source": [
        "# 📓 Linear Regression from Scratch\n",
        "\n",
        "### 🎯 Objective\n",
        "- Implement a linear regression model using gradient descent.\n",
        "- Derive the gradient updates, write a scikit-learn-like class, and evaluate using synthetic data.\n",
        "- Compare the result of the same with library code output\n",
        "- Use R2-Score and Mean Absolute Percentage error as Performance metric on test data"
      ]
    },
    {
      "cell_type": "markdown",
      "id": "7b08dfe6",
      "metadata": {
        "id": "7b08dfe6"
      },
      "source": [
        "## 📊 Generate Synthetic Data"
      ]
    },
    {
      "cell_type": "code",
      "execution_count": 84,
      "id": "08e7bb0c",
      "metadata": {
        "colab": {
          "base_uri": "https://localhost:8080/",
          "height": 472
        },
        "id": "08e7bb0c",
        "outputId": "cd897bb0-4312-46aa-dbdc-d35f7f428972"
      },
      "outputs": [
        {
          "output_type": "display_data",
          "data": {
            "text/plain": [
              "<Figure size 640x480 with 1 Axes>"
            ],
            "image/png": "[encoded data removed]"
          },
          "metadata": {}
        }
      ],
      "source": [
        "\n",
        "import numpy as np\n",
        "import matplotlib.pyplot as plt\n",
        "\n",
        "# Set seed for reproducibility\n",
        "np.random.seed(42)\n",
        "\n",
        "# Generate synthetic data\n",
        "X = 2 * np.random.rand(100, 1)\n",
        "y = 4 + 3 * X + np.random.randn(100, 1)\n",
        "\n",
        "# Plot\n",
        "plt.scatter(X, y)\n",
        "plt.xlabel(\"X\")\n",
        "plt.ylabel(\"y\")\n",
        "plt.title(\"Synthetic Data\")\n",
        "plt.show()\n"
      ]
    },
    {
      "cell_type": "markdown",
      "id": "a1353713",
      "metadata": {
        "id": "a1353713"
      },
      "source": [
        "## Do Train-Test Split (75%-25%)"
      ]
    },
    {
      "cell_type": "code",
      "execution_count": 85,
      "id": "63c6d725",
      "metadata": {
        "id": "63c6d725"
      },
      "outputs": [],
      "source": [
        "from sklearn.model_selection import train_test_split\n",
        "X_train, X_test, y_train, y_test = train_test_split(X, y, test_size=0.25)"
      ]
    },
    {
      "cell_type": "markdown",
      "id": "7a4bd95d",
      "metadata": {
        "id": "7a4bd95d"
      },
      "source": [
        "## Do the Linear Regression with Scikit-Learn Library"
      ]
    },
    {
      "cell_type": "code",
      "execution_count": 86,
      "id": "0e787214",
      "metadata": {
        "colab": {
          "base_uri": "https://localhost:8080/"
        },
        "id": "0e787214",
        "outputId": "78316fd5-3062-4c3d-d590-8847d0c9d7a2"
      },
      "outputs": [
        {
          "output_type": "stream",
          "name": "stdout",
          "text": [
            "0.7502160290465685\n",
            "0.11510854759055766\n"
          ]
        }
      ],
      "source": [
        "from sklearn.linear_model import LinearRegression\n",
        "from sklearn.metrics import r2_score, mean_absolute_percentage_error\n",
        "mod1 = LinearRegression()\n",
        "mod1.fit(X_train, y_train)\n",
        "y_pred = mod1.predict(X_test)\n",
        "a=r2_score(y_test, y_pred)\n",
        "b=mean_absolute_percentage_error(y_test, y_pred)\n",
        "print(a)\n",
        "print(b)"
      ]
    },
    {
      "cell_type": "markdown",
      "id": "2dd80e4c",
      "metadata": {
        "id": "2dd80e4c"
      },
      "source": [
        "## Do Ridge and Lasso Regression and Compare the evaluation metrics in a table"
      ]
    },
    {
      "cell_type": "code",
      "execution_count": 87,
      "id": "ad1313e6",
      "metadata": {
        "colab": {
          "base_uri": "https://localhost:8080/"
        },
        "id": "ad1313e6",
        "outputId": "65ccef47-3e37-44c2-f3a6-84c96e27e25a"
      },
      "outputs": [
        {
          "output_type": "stream",
          "name": "stdout",
          "text": [
            "0.7507043675163194\n",
            "0.11336096308936673\n"
          ]
        }
      ],
      "source": [
        "from sklearn.linear_model import Ridge\n",
        "from sklearn.metrics import r2_score, mean_absolute_percentage_error\n",
        "mod1 = Ridge()\n",
        "mod1.fit(X_train, y_train)\n",
        "y_pred = mod1.predict(X_test)\n",
        "a=r2_score(y_test, y_pred)\n",
        "b=mean_absolute_percentage_error(y_test, y_pred)\n",
        "print(a)\n",
        "print(b)"
      ]
    },
    {
      "cell_type": "code",
      "source": [
        "from sklearn.linear_model import Lasso\n",
        "from sklearn.metrics import r2_score, mean_absolute_percentage_error\n",
        "mod1 = Lasso()\n",
        "mod1.fit(X_train, y_train)\n",
        "y_pred = mod1.predict(X_test)\n",
        "a=r2_score(y_test, y_pred)\n",
        "b=mean_absolute_percentage_error(y_test, y_pred)\n",
        "print(a)\n",
        "print(b)"
      ],
      "metadata": {
        "colab": {
          "base_uri": "https://localhost:8080/"
        },
        "id": "UuWwuaBQuJxU",
        "outputId": "f42e9977-f88d-4349-d236-634333aca69f"
      },
      "id": "UuWwuaBQuJxU",
      "execution_count": 88,
      "outputs": [
        {
          "output_type": "stream",
          "name": "stdout",
          "text": [
            "-0.029886683980633766\n",
            "0.27100310602072253\n"
          ]
        }
      ]
    },
    {
      "cell_type": "code",
      "source": [
        "import pandas as pd\n",
        "result_df = pd.DataFrame(columns = ['model', 'metric', 'value'])\n",
        "result_df.loc[len(result_df)] = [\"Linear Regression\", \"MSE\", a]\n",
        "result_df.loc[len(result_df)] = [\"Linear Regression\", \"R2-score\", b]\n",
        "result_df.loc[len(result_df)] = [\"Ridge Regression\", \"MSE\", a]\n",
        "result_df.loc[len(result_df)] = [\"Ridge Regression\", \"R2-score\", b]\n",
        "result_df.loc[len(result_df)] = [\"Lasso Regression\", \"MSE\", a]\n",
        "result_df.loc[len(result_df)] = [\"Lasso Regression\", \"R2-score\", b]\n",
        "result_df"
      ],
      "metadata": {
        "colab": {
          "base_uri": "https://localhost:8080/",
          "height": 237
        },
        "id": "1M6hUY_ouTgU",
        "outputId": "0b0e87c1-19b8-4381-d7a9-23c6bfd4f8d3"
      },
      "id": "1M6hUY_ouTgU",
      "execution_count": 89,
      "outputs": [
        {
          "output_type": "execute_result",
          "data": {
            "text/plain": [
              "               model    metric     value\n",
              "0  Linear Regression       MSE -0.029887\n",
              "1  Linear Regression  R2-score  0.271003\n",
              "2   Ridge Regression       MSE -0.029887\n",
              "3   Ridge Regression  R2-score  0.271003\n",
              "4   Lasso Regression       MSE -0.029887\n",
              "5   Lasso Regression  R2-score  0.271003"
            ],
            "text/html": [
              "\n",
              "  <div id=\"df-3f66216c-1a72-49c7-bd10-17c364a0c3ca\" class=\"colab-df-container\">\n",
              "    <div>\n",
              "<style scoped>\n",
              "    .dataframe tbody tr th:only-of-type {\n",
              "        vertical-align: middle;\n",
              "    }\n",
              "\n",
              "    .dataframe tbody tr th {\n",
              "        vertical-align: top;\n",
              "    }\n",
              "\n",
              "    .dataframe thead th {\n",
              "        text-align: right;\n",
              "    }\n",
              "</style>\n",
              "<table border=\"1\" class=\"dataframe\">\n",
              "  <thead>\n",
              "    <tr style=\"text-align: right;\">\n",
              "      <th></th>\n",
              "      <th>model</th>\n",
              "      <th>metric</th>\n",
              "      <th>value</th>\n",
              "    </tr>\n",
              "  </thead>\n",
              "  <tbody>\n",
              "    <tr>\n",
              "      <th>0</th>\n",
              "      <td>Linear Regression</td>\n",
              "      <td>MSE</td>\n",
              "      <td>-0.029887</td>\n",
              "    </tr>\n",
              "    <tr>\n",
              "      <th>1</th>\n",
              "      <td>Linear Regression</td>\n",
              "      <td>R2-score</td>\n",
              "      <td>0.271003</td>\n",
              "    </tr>\n",
              "    <tr>\n",
              "      <th>2</th>\n",
              "      <td>Ridge Regression</td>\n",
              "      <td>MSE</td>\n",
              "      <td>-0.029887</td>\n",
              "    </tr>\n",
              "    <tr>\n",
              "      <th>3</th>\n",
              "      <td>Ridge Regression</td>\n",
              "      <td>R2-score</td>\n",
              "      <td>0.271003</td>\n",
              "    </tr>\n",
              "    <tr>\n",
              "      <th>4</th>\n",
              "      <td>Lasso Regression</td>\n",
              "      <td>MSE</td>\n",
              "      <td>-0.029887</td>\n",
              "    </tr>\n",
              "    <tr>\n",
              "      <th>5</th>\n",
              "      <td>Lasso Regression</td>\n",
              "      <td>R2-score</td>\n",
              "      <td>0.271003</td>\n",
              "    </tr>\n",
              "  </tbody>\n",
              "</table>\n",
              "</div>\n",
              "    <div class=\"colab-df-buttons\">\n",
              "\n",
              "  <div class=\"colab-df-container\">\n",
              "    <button class=\"colab-df-convert\" onclick=\"convertToInteractive('df-3f66216c-1a72-49c7-bd10-17c364a0c3ca')\"\n",
              "            title=\"Convert this dataframe to an interactive table.\"\n",
              "            style=\"display:none;\">\n",
              "\n",
              "  <svg xmlns=\"http://www.w3.org/2000/svg\" height=\"24px\" viewBox=\"0 -960 960 960\">\n",
              "    <path d=\"M120-120v-720h720v720H120Zm60-500h600v-160H180v160Zm220 220h160v-160H400v160Zm0 220h160v-160H400v160ZM180-400h160v-160H180v160Zm440 0h160v-160H620v160ZM180-180h160v-160H180v160Zm440 0h160v-160H620v160Z\"/>\n",
              "  </svg>\n",
              "    </button>\n",
              "\n",
              "  <style>\n",
              "    .colab-df-container {\n",
              "      display:flex;\n",
              "      gap: 12px;\n",
              "    }\n",
              "\n",
              "    .colab-df-convert {\n",
              "      background-color: #E8F0FE;\n",
              "      border: none;\n",
              "      border-radius: 50%;\n",
              "      cursor: pointer;\n",
              "      display: none;\n",
              "      fill: #1967D2;\n",
              "      height: 32px;\n",
              "      padding: 0 0 0 0;\n",
              "      width: 32px;\n",
              "    }\n",
              "\n",
              "    .colab-df-convert:hover {\n",
              "      background-color: #E2EBFA;\n",
              "      box-shadow: 0px 1px 2px rgba(60, 64, 67, 0.3), 0px 1px 3px 1px rgba(60, 64, 67, 0.15);\n",
              "      fill: #174EA6;\n",
              "    }\n",
              "\n",
              "    .colab-df-buttons div {\n",
              "      margin-bottom: 4px;\n",
              "    }\n",
              "\n",
              "    [theme=dark] .colab-df-convert {\n",
              "      background-color: #3B4455;\n",
              "      fill: #D2E3FC;\n",
              "    }\n",
              "\n",
              "    [theme=dark] .colab-df-convert:hover {\n",
              "      background-color: #434B5C;\n",
              "      box-shadow: 0px 1px 3px 1px rgba(0, 0, 0, 0.15);\n",
              "      filter: drop-shadow(0px 1px 2px rgba(0, 0, 0, 0.3));\n",
              "      fill: #FFFFFF;\n",
              "    }\n",
              "  </style>\n",
              "\n",
              "    <script>\n",
              "      const buttonEl =\n",
              "        document.querySelector('#df-3f66216c-1a72-49c7-bd10-17c364a0c3ca button.colab-df-convert');\n",
              "      buttonEl.style.display =\n",
              "        google.colab.kernel.accessAllowed ? 'block' : 'none';\n",
              "\n",
              "      async function convertToInteractive(key) {\n",
              "        const element = document.querySelector('#df-3f66216c-1a72-49c7-bd10-17c364a0c3ca');\n",
              "        const dataTable =\n",
              "          await google.colab.kernel.invokeFunction('convertToInteractive',\n",
              "                                                    [key], {});\n",
              "        if (!dataTable) return;\n",
              "\n",
              "        const docLinkHtml = 'Like what you see? Visit the ' +\n",
              "          '<a target=\"_blank\" href=https://colab.research.google.com/notebooks/data_table.ipynb>data table notebook</a>'\n",
              "          + ' to learn more about interactive tables.';\n",
              "        element.innerHTML = '';\n",
              "        dataTable['output_type'] = 'display_data';\n",
              "        await google.colab.output.renderOutput(dataTable, element);\n",
              "        const docLink = document.createElement('div');\n",
              "        docLink.innerHTML = docLinkHtml;\n",
              "        element.appendChild(docLink);\n",
              "      }\n",
              "    </script>\n",
              "  </div>\n",
              "\n",
              "\n",
              "    <div id=\"df-cc1c511b-2c42-4428-b87f-a6b826af577d\">\n",
              "      <button class=\"colab-df-quickchart\" onclick=\"quickchart('df-cc1c511b-2c42-4428-b87f-a6b826af577d')\"\n",
              "                title=\"Suggest charts\"\n",
              "                style=\"display:none;\">\n",
              "\n",
              "<svg xmlns=\"http://www.w3.org/2000/svg\" height=\"24px\"viewBox=\"0 0 24 24\"\n",
              "     width=\"24px\">\n",
              "    <g>\n",
              "        <path d=\"M19 3H5c-1.1 0-2 .9-2 2v14c0 1.1.9 2 2 2h14c1.1 0 2-.9 2-2V5c0-1.1-.9-2-2-2zM9 17H7v-7h2v7zm4 0h-2V7h2v10zm4 0h-2v-4h2v4z\"/>\n",
              "    </g>\n",
              "</svg>\n",
              "      </button>\n",
              "\n",
              "<style>\n",
              "  .colab-df-quickchart {\n",
              "      --bg-color: #E8F0FE;\n",
              "      --fill-color: #1967D2;\n",
              "      --hover-bg-color: #E2EBFA;\n",
              "      --hover-fill-color: #174EA6;\n",
              "      --disabled-fill-color: #AAA;\n",
              "      --disabled-bg-color: #DDD;\n",
              "  }\n",
              "\n",
              "  [theme=dark] .colab-df-quickchart {\n",
              "      --bg-color: #3B4455;\n",
              "      --fill-color: #D2E3FC;\n",
              "      --hover-bg-color: #434B5C;\n",
              "      --hover-fill-color: #FFFFFF;\n",
              "      --disabled-bg-color: #3B4455;\n",
              "      --disabled-fill-color: #666;\n",
              "  }\n",
              "\n",
              "  .colab-df-quickchart {\n",
              "    background-color: var(--bg-color);\n",
              "    border: none;\n",
              "    border-radius: 50%;\n",
              "    cursor: pointer;\n",
              "    display: none;\n",
              "    fill: var(--fill-color);\n",
              "    height: 32px;\n",
              "    padding: 0;\n",
              "    width: 32px;\n",
              "  }\n",
              "\n",
              "  .colab-df-quickchart:hover {\n",
              "    background-color: var(--hover-bg-color);\n",
              "    box-shadow: 0 1px 2px rgba(60, 64, 67, 0.3), 0 1px 3px 1px rgba(60, 64, 67, 0.15);\n",
              "    fill: var(--button-hover-fill-color);\n",
              "  }\n",
              "\n",
              "  .colab-df-quickchart-complete:disabled,\n",
              "  .colab-df-quickchart-complete:disabled:hover {\n",
              "    background-color: var(--disabled-bg-color);\n",
              "    fill: var(--disabled-fill-color);\n",
              "    box-shadow: none;\n",
              "  }\n",
              "\n",
              "  .colab-df-spinner {\n",
              "    border: 2px solid var(--fill-color);\n",
              "    border-color: transparent;\n",
              "    border-bottom-color: var(--fill-color);\n",
              "    animation:\n",
              "      spin 1s steps(1) infinite;\n",
              "  }\n",
              "\n",
              "  @keyframes spin {\n",
              "    0% {\n",
              "      border-color: transparent;\n",
              "      border-bottom-color: var(--fill-color);\n",
              "      border-left-color: var(--fill-color);\n",
              "    }\n",
              "    20% {\n",
              "      border-color: transparent;\n",
              "      border-left-color: var(--fill-color);\n",
              "      border-top-color: var(--fill-color);\n",
              "    }\n",
              "    30% {\n",
              "      border-color: transparent;\n",
              "      border-left-color: var(--fill-color);\n",
              "      border-top-color: var(--fill-color);\n",
              "      border-right-color: var(--fill-color);\n",
              "    }\n",
              "    40% {\n",
              "      border-color: transparent;\n",
              "      border-right-color: var(--fill-color);\n",
              "      border-top-color: var(--fill-color);\n",
              "    }\n",
              "    60% {\n",
              "      border-color: transparent;\n",
              "      border-right-color: var(--fill-color);\n",
              "    }\n",
              "    80% {\n",
              "      border-color: transparent;\n",
              "      border-right-color: var(--fill-color);\n",
              "      border-bottom-color: var(--fill-color);\n",
              "    }\n",
              "    90% {\n",
              "      border-color: transparent;\n",
              "      border-bottom-color: var(--fill-color);\n",
              "    }\n",
              "  }\n",
              "</style>\n",
              "\n",
              "      <script>\n",
              "        async function quickchart(key) {\n",
              "          const quickchartButtonEl =\n",
              "            document.querySelector('#' + key + ' button');\n",
              "          quickchartButtonEl.disabled = true;  // To prevent multiple clicks.\n",
              "          quickchartButtonEl.classList.add('colab-df-spinner');\n",
              "          try {\n",
              "            const charts = await google.colab.kernel.invokeFunction(\n",
              "                'suggestCharts', [key], {});\n",
              "          } catch (error) {\n",
              "            console.error('Error during call to suggestCharts:', error);\n",
              "          }\n",
              "          quickchartButtonEl.classList.remove('colab-df-spinner');\n",
              "          quickchartButtonEl.classList.add('colab-df-quickchart-complete');\n",
              "        }\n",
              "        (() => {\n",
              "          let quickchartButtonEl =\n",
              "            document.querySelector('#df-cc1c511b-2c42-4428-b87f-a6b826af577d button');\n",
              "          quickchartButtonEl.style.display =\n",
              "            google.colab.kernel.accessAllowed ? 'block' : 'none';\n",
              "        })();\n",
              "      </script>\n",
              "    </div>\n",
              "\n",
              "  <div id=\"id_46bddb99-e16f-41fd-8896-adbafeeed208\">\n",
              "    <style>\n",
              "      .colab-df-generate {\n",
              "        background-color: #E8F0FE;\n",
              "        border: none;\n",
              "        border-radius: 50%;\n",
              "        cursor: pointer;\n",
              "        display: none;\n",
              "        fill: #1967D2;\n",
              "        height: 32px;\n",
              "        padding: 0 0 0 0;\n",
              "        width: 32px;\n",
              "      }\n",
              "\n",
              "      .colab-df-generate:hover {\n",
              "        background-color: #E2EBFA;\n",
              "        box-shadow: 0px 1px 2px rgba(60, 64, 67, 0.3), 0px 1px 3px 1px rgba(60, 64, 67, 0.15);\n",
              "        fill: #174EA6;\n",
              "      }\n",
              "\n",
              "      [theme=dark] .colab-df-generate {\n",
              "        background-color: #3B4455;\n",
              "        fill: #D2E3FC;\n",
              "      }\n",
              "\n",
              "      [theme=dark] .colab-df-generate:hover {\n",
              "        background-color: #434B5C;\n",
              "        box-shadow: 0px 1px 3px 1px rgba(0, 0, 0, 0.15);\n",
              "        filter: drop-shadow(0px 1px 2px rgba(0, 0, 0, 0.3));\n",
              "        fill: #FFFFFF;\n",
              "      }\n",
              "    </style>\n",
              "    <button class=\"colab-df-generate\" onclick=\"generateWithVariable('result_df')\"\n",
              "            title=\"Generate code using this dataframe.\"\n",
              "            style=\"display:none;\">\n",
              "\n",
              "  <svg xmlns=\"http://www.w3.org/2000/svg\" height=\"24px\"viewBox=\"0 0 24 24\"\n",
              "       width=\"24px\">\n",
              "    <path d=\"M7,19H8.4L18.45,9,17,7.55,7,17.6ZM5,21V16.75L18.45,3.32a2,2,0,0,1,2.83,0l1.4,1.43a1.91,1.91,0,0,1,.58,1.4,1.91,1.91,0,0,1-.58,1.4L9.25,21ZM18.45,9,17,7.55Zm-12,3A5.31,5.31,0,0,0,4.9,8.1,5.31,5.31,0,0,0,1,6.5,5.31,5.31,0,0,0,4.9,4.9,5.31,5.31,0,0,0,6.5,1,5.31,5.31,0,0,0,8.1,4.9,5.31,5.31,0,0,0,12,6.5,5.46,5.46,0,0,0,6.5,12Z\"/>\n",
              "  </svg>\n",
              "    </button>\n",
              "    <script>\n",
              "      (() => {\n",
              "      const buttonEl =\n",
              "        document.querySelector('#id_46bddb99-e16f-41fd-8896-adbafeeed208 button.colab-df-generate');\n",
              "      buttonEl.style.display =\n",
              "        google.colab.kernel.accessAllowed ? 'block' : 'none';\n",
              "\n",
              "      buttonEl.onclick = () => {\n",
              "        google.colab.notebook.generateWithVariable('result_df');\n",
              "      }\n",
              "      })();\n",
              "    </script>\n",
              "  </div>\n",
              "\n",
              "    </div>\n",
              "  </div>\n"
            ],
            "application/vnd.google.colaboratory.intrinsic+json": {
              "type": "dataframe",
              "variable_name": "result_df",
              "summary": "{\n  \"name\": \"result_df\",\n  \"rows\": 6,\n  \"fields\": [\n    {\n      \"column\": \"model\",\n      \"properties\": {\n        \"dtype\": \"string\",\n        \"num_unique_values\": 3,\n        \"samples\": [\n          \"Linear Regression\",\n          \"Ridge Regression\",\n          \"Lasso Regression\"\n        ],\n        \"semantic_type\": \"\",\n        \"description\": \"\"\n      }\n    },\n    {\n      \"column\": \"metric\",\n      \"properties\": {\n        \"dtype\": \"category\",\n        \"num_unique_values\": 2,\n        \"samples\": [\n          \"R2-score\",\n          \"MSE\"\n        ],\n        \"semantic_type\": \"\",\n        \"description\": \"\"\n      }\n    },\n    {\n      \"column\": \"value\",\n      \"properties\": {\n        \"dtype\": \"number\",\n        \"std\": 0.16480412530673522,\n        \"min\": -0.029886683980633766,\n        \"max\": 0.27100310602072253,\n        \"num_unique_values\": 2,\n        \"samples\": [\n          0.27100310602072253,\n          -0.029886683980633766\n        ],\n        \"semantic_type\": \"\",\n        \"description\": \"\"\n      }\n    }\n  ]\n}"
            }
          },
          "metadata": {},
          "execution_count": 89
        }
      ]
    },
    {
      "cell_type": "markdown",
      "id": "90959c9a",
      "metadata": {
        "id": "90959c9a"
      },
      "source": [
        "## Custom Implementation"
      ]
    },
    {
      "cell_type": "markdown",
      "id": "336101a1",
      "metadata": {
        "id": "336101a1"
      },
      "source": [
        "## 🧮 Derive the Gradient Updates\n",
        "Use the chain rule to derive the gradients of the loss function (Mean Square Error):\n",
        "\n",
        "$$ \\text{Loss} = \\frac{1}{N} \\sum_{i=1}^{N} (y_i - (mx_i + c))^2 $$\n",
        "\n",
        "Derive:\n",
        "- ∂Loss/∂m\n",
        "- ∂Loss/∂c\n",
        "\n",
        "Write the derivation here/add screenshot of your derivation here:"
      ]
    },
    {
      "cell_type": "markdown",
      "id": "b42d4781",
      "metadata": {
        "id": "b42d4781"
      },
      "source": [
        "## 🧠 Custom Linear Regression Class"
      ]
    },
    {
      "cell_type": "code",
      "source": [
        "class MyLinearRegression:\n",
        "    def __init__(self, learning_rate=0.01):\n",
        "        self.learning_rate = learning_rate\n",
        "        self.weights = None\n",
        "        self.bias = None\n",
        "        self.losses = []\n",
        "\n",
        "    def fit(self, X, y, n_iters=1000):\n",
        "\n",
        "        if len(X.shape) == 1:\n",
        "            X = X.reshape(-1, 1)\n",
        "        if len(y.shape) == 1:\n",
        "            y = y.reshape(-1, 1)\n",
        "\n",
        "\n",
        "        n_samples, n_features = X.shape\n",
        "        self.weights = np.zeros((n_features, 1))\n",
        "        self.bias = 0\n",
        "\n",
        "        for _ in range(n_iters):\n",
        "            y_pred = np.dot(X, self.weights) + self.bias\n",
        "            loss = np.mean((y_pred - y) ** 2)\n",
        "            self.losses.append(loss)\n",
        "\n",
        "\n",
        "            dw = (1 / n_samples) * np.dot(X.T, (y_pred - y))\n",
        "            db = (1 / n_samples) * np.sum(y_pred - y)\n",
        "\n",
        "            self.weights -= self.learning_rate * dw\n",
        "            self.bias -= self.learning_rate * db\n",
        "\n",
        "    def predict(self, X):\n",
        "        if len(X.shape) == 1:\n",
        "            X = X.reshape(-1, 1)\n",
        "        return np.dot(X, self.weights) + self.bias\n",
        "\n",
        "    def plot_loss(self):\n",
        "        plt.plot(self.losses)\n",
        "        plt.xlabel(\"Iterations\")\n",
        "        plt.ylabel(\"Loss\")\n",
        "        plt.title(\"Loss Curve\")\n",
        "        plt.show()"
      ],
      "metadata": {
        "id": "nGk-2fSuz9Mi"
      },
      "id": "nGk-2fSuz9Mi",
      "execution_count": 90,
      "outputs": []
    },
    {
      "cell_type": "markdown",
      "id": "b7c59cd7",
      "metadata": {
        "id": "b7c59cd7"
      },
      "source": [
        "## 🔁 Train the Model and Visualize the Fit"
      ]
    },
    {
      "cell_type": "code",
      "execution_count": 91,
      "id": "4c91abaf",
      "metadata": {
        "colab": {
          "base_uri": "https://localhost:8080/",
          "height": 470
        },
        "id": "4c91abaf",
        "outputId": "6b2286f9-aabd-4686-c894-f029dda9c436"
      },
      "outputs": [
        {
          "output_type": "display_data",
          "data": {
            "text/plain": [
              "<Figure size 640x480 with 1 Axes>"
            ],
            "image/png": "[encoded data removed]"
          },
          "metadata": {}
        },
        {
          "output_type": "stream",
          "name": "stdout",
          "text": [
            "Learned coefficients (m, c): [[2.95682046]] 3.9525935823930523\n"
          ]
        }
      ],
      "source": [
        "model = MyLinearRegression(learning_rate=0.1)\n",
        "model.fit(X_train, y_train, n_iters=100)\n",
        "\n",
        "\n",
        "y_pred = model.predict(X_test)\n",
        "\n",
        "\n",
        "plt.scatter(X_test, y_test, label=\"Data\")\n",
        "plt.plot(X_test, y_pred, color=\"red\", label=\"Model\")\n",
        "plt.legend()\n",
        "plt.title(\"Linear Regression Fit\")\n",
        "plt.show()\n",
        "\n",
        "\n",
        "print(\"Learned coefficients (m, c):\", model.weights, model.bias)"
      ]
    },
    {
      "cell_type": "markdown",
      "id": "7d0ef2cd",
      "metadata": {
        "id": "7d0ef2cd"
      },
      "source": [
        "## 📉 Plot the Loss Curve"
      ]
    },
    {
      "cell_type": "code",
      "execution_count": 92,
      "id": "cb5c189f",
      "metadata": {
        "colab": {
          "base_uri": "https://localhost:8080/",
          "height": 472
        },
        "id": "cb5c189f",
        "outputId": "cc8788db-bafc-40d1-adb2-ecf33dce5f41"
      },
      "outputs": [
        {
          "output_type": "display_data",
          "data": {
            "text/plain": [
              "<Figure size 640x480 with 1 Axes>"
            ],
            "image/png": "[encoded data removed]"
          },
          "metadata": {}
        }
      ],
      "source": [
        "model.plot_loss()"
      ]
    },
    {
      "cell_type": "markdown",
      "id": "9ac04f98",
      "metadata": {
        "id": "9ac04f98"
      },
      "source": [
        "## 🌟 Bonus Task: Stochastic Gradient Descent\n",
        "Implement a class `MyLinearRegressionSGD` that uses one training sample per iteration to update weights."
      ]
    },
    {
      "cell_type": "code",
      "execution_count": 93,
      "id": "2bb1cac7",
      "metadata": {
        "id": "2bb1cac7"
      },
      "outputs": [],
      "source": [
        "import numpy as np\n",
        "import matplotlib.pyplot as plt\n",
        "\n",
        "class MyLinearRegressionSGD:\n",
        "    def __init__(self, learning_rate=0.01):\n",
        "        self.lr = learning_rate\n",
        "        self.weight = 0\n",
        "        self.bias = 0\n",
        "        self.losses = []\n",
        "\n",
        "    def fit(self, X, y, epochs=50):\n",
        "        X = np.array(X)\n",
        "        y = np.array(y)\n",
        "        n = len(X)\n",
        "\n",
        "        for epoch in range(epochs):\n",
        "            total_loss = 0\n",
        "\n",
        "            for i in range(n):\n",
        "                xi = X[i]\n",
        "                yi = y[i]\n",
        "\n",
        "\n",
        "                y_pred = self.weight * xi + self.bias\n",
        "\n",
        "\n",
        "                error = y_pred - yi\n",
        "\n",
        "                self.weight -= self.lr * error * xi\n",
        "                self.bias -= self.lr * error\n",
        "\n",
        "\n",
        "                total_loss += error**2\n",
        "\n",
        "            avg_loss = total_loss / n\n",
        "            self.losses.append(avg_loss)\n",
        "\n",
        "    def predict(self, X):\n",
        "        return self.weight * np.array(X) + self.bias\n",
        "\n",
        "    def plot_loss(self):\n",
        "        plt.plot(self.losses)\n",
        "        plt.xlabel(\"Epoch\")\n",
        "        plt.ylabel(\"Loss (MSE)\")\n",
        "        plt.title(\"Loss Curve - SGD\")\n",
        "        plt.grid(True)\n",
        "        plt.show()\n"
      ]
    },
    {
      "cell_type": "code",
      "execution_count": 94,
      "id": "6edfaa39",
      "metadata": {
        "colab": {
          "base_uri": "https://localhost:8080/",
          "height": 472
        },
        "id": "6edfaa39",
        "outputId": "00ea8b84-2457-43c9-b211-eb88299b0a12"
      },
      "outputs": [
        {
          "output_type": "display_data",
          "data": {
            "text/plain": [
              "<Figure size 640x480 with 1 Axes>"
            ],
            "image/png": "[encoded data removed]"
          },
          "metadata": {}
        }
      ],
      "source": [
        "model.plot_loss()"
      ]
    },
    {
      "cell_type": "markdown",
      "id": "5136f0a7",
      "metadata": {
        "id": "5136f0a7"
      },
      "source": [
        "## Visualize the prediction result of Library version and Custom regression code created"
      ]
    },
    {
      "cell_type": "code",
      "execution_count": 98,
      "id": "f19f5af6",
      "metadata": {
        "colab": {
          "base_uri": "https://localhost:8080/",
          "height": 564
        },
        "id": "f19f5af6",
        "outputId": "6dcc74ee-7dfc-492a-917b-e72c0ba3295c"
      },
      "outputs": [
        {
          "output_type": "display_data",
          "data": {
            "text/plain": [
              "<Figure size 1000x600 with 1 Axes>"
            ],
            "image/png": "[encoded data removed]"
          },
          "metadata": {}
        }
      ],
      "source": [
        "mod1=LinearRegression()\n",
        "mod2 = MyLinearRegression()\n",
        "mod1.fit(X_train, y_train)\n",
        "mod2.fit(X_train, y_train)\n",
        "y_pred1 = mod1.predict(X_test)\n",
        "y_pred2 = mod2.predict(X_test)\n",
        "\n",
        "\n",
        "\n",
        "plt.figure(figsize=(10, 6))\n",
        "plt.plot(X_test, y_pred1, color='green', marker='x', label='Custom Model Predictions')\n",
        "plt.plot(X_test, y_pred2, color='red', marker='o', label='Sklearn Predictions')\n",
        "plt.title(\"Custom vs Sklearn Linear Regression Predictions\")\n",
        "plt.xlabel(\"X Test\")\n",
        "plt.ylabel(\"y\")\n",
        "plt.legend()\n",
        "plt.grid(True)\n",
        "plt.show()"
      ]
    },
    {
      "cell_type": "markdown",
      "id": "60b3545d",
      "metadata": {
        "id": "60b3545d"
      },
      "source": [
        "## ✅ Checklist\n",
        "- [ ] Did linear regression using scikit-learn API\n",
        "- [ ] Did Ridge and Lasso regression and compiled the result (R2 and MAPE) as a table\n",
        "- [ ] Derived gradients using chain rule\n",
        "- [ ] Implemented custom Linear Regression class\n",
        "- [ ] Trained using gradient descent\n",
        "- [ ] Visualized predictions and loss\n",
        "- [ ] Implemented stochastic gradient descent (bonus)\n",
        "- [ ] Visualized predictions and loss for stochastic gradient descent (bonus)\n",
        "- [ ] Visualize the prediction result of Library version and custom version"
      ]
    }
  ],
  "metadata": {
    "kernelspec": {
      "display_name": "Python 3",
      "name": "python3"
    },
    "language_info": {
      "name": "python"
    },
    "colab": {
      "provenance": [],
      "include_colab_link": true
    }
  },
  "nbformat": 4,
  "nbformat_minor": 5
}