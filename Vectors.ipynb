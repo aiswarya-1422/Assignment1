{
  "nbformat": 4,
  "nbformat_minor": 0,
  "metadata": {
    "colab": {
      "provenance": []
    },
    "kernelspec": {
      "name": "python3",
      "display_name": "Python 3"
    },
    "language_info": {
      "name": "python"
    }
  },
  "cells": [
    {
      "cell_type": "markdown",
      "source": [
        "1.Find the top 5 similar cars to toyota corona mark ii"
      ],
      "metadata": {
        "id": "fq420NeIzI3i"
      }
    },
    {
      "cell_type": "code",
      "execution_count": 75,
      "metadata": {
        "id": "g5mI8Q1bzCL1"
      },
      "outputs": [],
      "source": [
        "import numpy as np\n",
        "import pandas as pd\n",
        "from sklearn.preprocessing import StandardScaler\n",
        "from sklearn.metrics.pairwise import cosine_similarity"
      ]
    },
    {
      "cell_type": "code",
      "source": [
        "df = pd.read_csv('auto-mpg.csv')\n"
      ],
      "metadata": {
        "id": "7JOFLR5O0ItO"
      },
      "execution_count": 76,
      "outputs": []
    },
    {
      "cell_type": "code",
      "source": [
        "df['horsepower'] = pd.to_numeric(df['horsepower'], errors='coerce')\n",
        "df_clean = df.dropna()"
      ],
      "metadata": {
        "id": "41NuSKHE8Dit"
      },
      "execution_count": 77,
      "outputs": []
    },
    {
      "cell_type": "code",
      "source": [
        "data1=data.select_dtypes(include=np.number).copy()"
      ],
      "metadata": {
        "id": "N5av0Hs52S8i"
      },
      "execution_count": 78,
      "outputs": []
    },
    {
      "cell_type": "code",
      "source": [
        "data1.head()"
      ],
      "metadata": {
        "colab": {
          "base_uri": "https://localhost:8080/",
          "height": 206
        },
        "id": "Hj7xgXpL22Zs",
        "outputId": "c5e1581a-e844-4981-cca1-b46daafec342"
      },
      "execution_count": 79,
      "outputs": [
        {
          "output_type": "execute_result",
          "data": {
            "text/plain": [
              "    mpg  cylinders  displacement  weight  acceleration  model year  origin\n",
              "0  18.0          8         307.0    3504          12.0          70       1\n",
              "1  15.0          8         350.0    3693          11.5          70       1\n",
              "2  18.0          8         318.0    3436          11.0          70       1\n",
              "3  16.0          8         304.0    3433          12.0          70       1\n",
              "4  17.0          8         302.0    3449          10.5          70       1"
            ],
            "text/html": [
              "\n",
              "  <div id=\"df-3ef31bd5-0049-4633-9290-65e45a8323ed\" class=\"colab-df-container\">\n",
              "    <div>\n",
              "<style scoped>\n",
              "    .dataframe tbody tr th:only-of-type {\n",
              "        vertical-align: middle;\n",
              "    }\n",
              "\n",
              "    .dataframe tbody tr th {\n",
              "        vertical-align: top;\n",
              "    }\n",
              "\n",
              "    .dataframe thead th {\n",
              "        text-align: right;\n",
              "    }\n",
              "</style>\n",
              "<table border=\"1\" class=\"dataframe\">\n",
              "  <thead>\n",
              "    <tr style=\"text-align: right;\">\n",
              "      <th></th>\n",
              "      <th>mpg</th>\n",
              "      <th>cylinders</th>\n",
              "      <th>displacement</th>\n",
              "      <th>weight</th>\n",
              "      <th>acceleration</th>\n",
              "      <th>model year</th>\n",
              "      <th>origin</th>\n",
              "    </tr>\n",
              "  </thead>\n",
              "  <tbody>\n",
              "    <tr>\n",
              "      <th>0</th>\n",
              "      <td>18.0</td>\n",
              "      <td>8</td>\n",
              "      <td>307.0</td>\n",
              "      <td>3504</td>\n",
              "      <td>12.0</td>\n",
              "      <td>70</td>\n",
              "      <td>1</td>\n",
              "    </tr>\n",
              "    <tr>\n",
              "      <th>1</th>\n",
              "      <td>15.0</td>\n",
              "      <td>8</td>\n",
              "      <td>350.0</td>\n",
              "      <td>3693</td>\n",
              "      <td>11.5</td>\n",
              "      <td>70</td>\n",
              "      <td>1</td>\n",
              "    </tr>\n",
              "    <tr>\n",
              "      <th>2</th>\n",
              "      <td>18.0</td>\n",
              "      <td>8</td>\n",
              "      <td>318.0</td>\n",
              "      <td>3436</td>\n",
              "      <td>11.0</td>\n",
              "      <td>70</td>\n",
              "      <td>1</td>\n",
              "    </tr>\n",
              "    <tr>\n",
              "      <th>3</th>\n",
              "      <td>16.0</td>\n",
              "      <td>8</td>\n",
              "      <td>304.0</td>\n",
              "      <td>3433</td>\n",
              "      <td>12.0</td>\n",
              "      <td>70</td>\n",
              "      <td>1</td>\n",
              "    </tr>\n",
              "    <tr>\n",
              "      <th>4</th>\n",
              "      <td>17.0</td>\n",
              "      <td>8</td>\n",
              "      <td>302.0</td>\n",
              "      <td>3449</td>\n",
              "      <td>10.5</td>\n",
              "      <td>70</td>\n",
              "      <td>1</td>\n",
              "    </tr>\n",
              "  </tbody>\n",
              "</table>\n",
              "</div>\n",
              "    <div class=\"colab-df-buttons\">\n",
              "\n",
              "  <div class=\"colab-df-container\">\n",
              "    <button class=\"colab-df-convert\" onclick=\"convertToInteractive('df-3ef31bd5-0049-4633-9290-65e45a8323ed')\"\n",
              "            title=\"Convert this dataframe to an interactive table.\"\n",
              "            style=\"display:none;\">\n",
              "\n",
              "  <svg xmlns=\"http://www.w3.org/2000/svg\" height=\"24px\" viewBox=\"0 -960 960 960\">\n",
              "    <path d=\"M120-120v-720h720v720H120Zm60-500h600v-160H180v160Zm220 220h160v-160H400v160Zm0 220h160v-160H400v160ZM180-400h160v-160H180v160Zm440 0h160v-160H620v160ZM180-180h160v-160H180v160Zm440 0h160v-160H620v160Z\"/>\n",
              "  </svg>\n",
              "    </button>\n",
              "\n",
              "  <style>\n",
              "    .colab-df-container {\n",
              "      display:flex;\n",
              "      gap: 12px;\n",
              "    }\n",
              "\n",
              "    .colab-df-convert {\n",
              "      background-color: #E8F0FE;\n",
              "      border: none;\n",
              "      border-radius: 50%;\n",
              "      cursor: pointer;\n",
              "      display: none;\n",
              "      fill: #1967D2;\n",
              "      height: 32px;\n",
              "      padding: 0 0 0 0;\n",
              "      width: 32px;\n",
              "    }\n",
              "\n",
              "    .colab-df-convert:hover {\n",
              "      background-color: #E2EBFA;\n",
              "      box-shadow: 0px 1px 2px rgba(60, 64, 67, 0.3), 0px 1px 3px 1px rgba(60, 64, 67, 0.15);\n",
              "      fill: #174EA6;\n",
              "    }\n",
              "\n",
              "    .colab-df-buttons div {\n",
              "      margin-bottom: 4px;\n",
              "    }\n",
              "\n",
              "    [theme=dark] .colab-df-convert {\n",
              "      background-color: #3B4455;\n",
              "      fill: #D2E3FC;\n",
              "    }\n",
              "\n",
              "    [theme=dark] .colab-df-convert:hover {\n",
              "      background-color: #434B5C;\n",
              "      box-shadow: 0px 1px 3px 1px rgba(0, 0, 0, 0.15);\n",
              "      filter: drop-shadow(0px 1px 2px rgba(0, 0, 0, 0.3));\n",
              "      fill: #FFFFFF;\n",
              "    }\n",
              "  </style>\n",
              "\n",
              "    <script>\n",
              "      const buttonEl =\n",
              "        document.querySelector('#df-3ef31bd5-0049-4633-9290-65e45a8323ed button.colab-df-convert');\n",
              "      buttonEl.style.display =\n",
              "        google.colab.kernel.accessAllowed ? 'block' : 'none';\n",
              "\n",
              "      async function convertToInteractive(key) {\n",
              "        const element = document.querySelector('#df-3ef31bd5-0049-4633-9290-65e45a8323ed');\n",
              "        const dataTable =\n",
              "          await google.colab.kernel.invokeFunction('convertToInteractive',\n",
              "                                                    [key], {});\n",
              "        if (!dataTable) return;\n",
              "\n",
              "        const docLinkHtml = 'Like what you see? Visit the ' +\n",
              "          '<a target=\"_blank\" href=https://colab.research.google.com/notebooks/data_table.ipynb>data table notebook</a>'\n",
              "          + ' to learn more about interactive tables.';\n",
              "        element.innerHTML = '';\n",
              "        dataTable['output_type'] = 'display_data';\n",
              "        await google.colab.output.renderOutput(dataTable, element);\n",
              "        const docLink = document.createElement('div');\n",
              "        docLink.innerHTML = docLinkHtml;\n",
              "        element.appendChild(docLink);\n",
              "      }\n",
              "    </script>\n",
              "  </div>\n",
              "\n",
              "\n",
              "    <div id=\"df-35018a0c-6ae1-46d9-8a29-2cc42406e945\">\n",
              "      <button class=\"colab-df-quickchart\" onclick=\"quickchart('df-35018a0c-6ae1-46d9-8a29-2cc42406e945')\"\n",
              "                title=\"Suggest charts\"\n",
              "                style=\"display:none;\">\n",
              "\n",
              "<svg xmlns=\"http://www.w3.org/2000/svg\" height=\"24px\"viewBox=\"0 0 24 24\"\n",
              "     width=\"24px\">\n",
              "    <g>\n",
              "        <path d=\"M19 3H5c-1.1 0-2 .9-2 2v14c0 1.1.9 2 2 2h14c1.1 0 2-.9 2-2V5c0-1.1-.9-2-2-2zM9 17H7v-7h2v7zm4 0h-2V7h2v10zm4 0h-2v-4h2v4z\"/>\n",
              "    </g>\n",
              "</svg>\n",
              "      </button>\n",
              "\n",
              "<style>\n",
              "  .colab-df-quickchart {\n",
              "      --bg-color: #E8F0FE;\n",
              "      --fill-color: #1967D2;\n",
              "      --hover-bg-color: #E2EBFA;\n",
              "      --hover-fill-color: #174EA6;\n",
              "      --disabled-fill-color: #AAA;\n",
              "      --disabled-bg-color: #DDD;\n",
              "  }\n",
              "\n",
              "  [theme=dark] .colab-df-quickchart {\n",
              "      --bg-color: #3B4455;\n",
              "      --fill-color: #D2E3FC;\n",
              "      --hover-bg-color: #434B5C;\n",
              "      --hover-fill-color: #FFFFFF;\n",
              "      --disabled-bg-color: #3B4455;\n",
              "      --disabled-fill-color: #666;\n",
              "  }\n",
              "\n",
              "  .colab-df-quickchart {\n",
              "    background-color: var(--bg-color);\n",
              "    border: none;\n",
              "    border-radius: 50%;\n",
              "    cursor: pointer;\n",
              "    display: none;\n",
              "    fill: var(--fill-color);\n",
              "    height: 32px;\n",
              "    padding: 0;\n",
              "    width: 32px;\n",
              "  }\n",
              "\n",
              "  .colab-df-quickchart:hover {\n",
              "    background-color: var(--hover-bg-color);\n",
              "    box-shadow: 0 1px 2px rgba(60, 64, 67, 0.3), 0 1px 3px 1px rgba(60, 64, 67, 0.15);\n",
              "    fill: var(--button-hover-fill-color);\n",
              "  }\n",
              "\n",
              "  .colab-df-quickchart-complete:disabled,\n",
              "  .colab-df-quickchart-complete:disabled:hover {\n",
              "    background-color: var(--disabled-bg-color);\n",
              "    fill: var(--disabled-fill-color);\n",
              "    box-shadow: none;\n",
              "  }\n",
              "\n",
              "  .colab-df-spinner {\n",
              "    border: 2px solid var(--fill-color);\n",
              "    border-color: transparent;\n",
              "    border-bottom-color: var(--fill-color);\n",
              "    animation:\n",
              "      spin 1s steps(1) infinite;\n",
              "  }\n",
              "\n",
              "  @keyframes spin {\n",
              "    0% {\n",
              "      border-color: transparent;\n",
              "      border-bottom-color: var(--fill-color);\n",
              "      border-left-color: var(--fill-color);\n",
              "    }\n",
              "    20% {\n",
              "      border-color: transparent;\n",
              "      border-left-color: var(--fill-color);\n",
              "      border-top-color: var(--fill-color);\n",
              "    }\n",
              "    30% {\n",
              "      border-color: transparent;\n",
              "      border-left-color: var(--fill-color);\n",
              "      border-top-color: var(--fill-color);\n",
              "      border-right-color: var(--fill-color);\n",
              "    }\n",
              "    40% {\n",
              "      border-color: transparent;\n",
              "      border-right-color: var(--fill-color);\n",
              "      border-top-color: var(--fill-color);\n",
              "    }\n",
              "    60% {\n",
              "      border-color: transparent;\n",
              "      border-right-color: var(--fill-color);\n",
              "    }\n",
              "    80% {\n",
              "      border-color: transparent;\n",
              "      border-right-color: var(--fill-color);\n",
              "      border-bottom-color: var(--fill-color);\n",
              "    }\n",
              "    90% {\n",
              "      border-color: transparent;\n",
              "      border-bottom-color: var(--fill-color);\n",
              "    }\n",
              "  }\n",
              "</style>\n",
              "\n",
              "      <script>\n",
              "        async function quickchart(key) {\n",
              "          const quickchartButtonEl =\n",
              "            document.querySelector('#' + key + ' button');\n",
              "          quickchartButtonEl.disabled = true;  // To prevent multiple clicks.\n",
              "          quickchartButtonEl.classList.add('colab-df-spinner');\n",
              "          try {\n",
              "            const charts = await google.colab.kernel.invokeFunction(\n",
              "                'suggestCharts', [key], {});\n",
              "          } catch (error) {\n",
              "            console.error('Error during call to suggestCharts:', error);\n",
              "          }\n",
              "          quickchartButtonEl.classList.remove('colab-df-spinner');\n",
              "          quickchartButtonEl.classList.add('colab-df-quickchart-complete');\n",
              "        }\n",
              "        (() => {\n",
              "          let quickchartButtonEl =\n",
              "            document.querySelector('#df-35018a0c-6ae1-46d9-8a29-2cc42406e945 button');\n",
              "          quickchartButtonEl.style.display =\n",
              "            google.colab.kernel.accessAllowed ? 'block' : 'none';\n",
              "        })();\n",
              "      </script>\n",
              "    </div>\n",
              "\n",
              "    </div>\n",
              "  </div>\n"
            ],
            "application/vnd.google.colaboratory.intrinsic+json": {
              "type": "dataframe",
              "variable_name": "data1",
              "summary": "{\n  \"name\": \"data1\",\n  \"rows\": 398,\n  \"fields\": [\n    {\n      \"column\": \"mpg\",\n      \"properties\": {\n        \"dtype\": \"number\",\n        \"std\": 7.815984312565782,\n        \"min\": 9.0,\n        \"max\": 46.6,\n        \"num_unique_values\": 129,\n        \"samples\": [\n          17.7,\n          30.5,\n          30.0\n        ],\n        \"semantic_type\": \"\",\n        \"description\": \"\"\n      }\n    },\n    {\n      \"column\": \"cylinders\",\n      \"properties\": {\n        \"dtype\": \"number\",\n        \"std\": 1,\n        \"min\": 3,\n        \"max\": 8,\n        \"num_unique_values\": 5,\n        \"samples\": [\n          4,\n          5,\n          6\n        ],\n        \"semantic_type\": \"\",\n        \"description\": \"\"\n      }\n    },\n    {\n      \"column\": \"displacement\",\n      \"properties\": {\n        \"dtype\": \"number\",\n        \"std\": 104.26983817119581,\n        \"min\": 68.0,\n        \"max\": 455.0,\n        \"num_unique_values\": 82,\n        \"samples\": [\n          122.0,\n          307.0,\n          360.0\n        ],\n        \"semantic_type\": \"\",\n        \"description\": \"\"\n      }\n    },\n    {\n      \"column\": \"weight\",\n      \"properties\": {\n        \"dtype\": \"number\",\n        \"std\": 846,\n        \"min\": 1613,\n        \"max\": 5140,\n        \"num_unique_values\": 351,\n        \"samples\": [\n          3730,\n          1995,\n          2215\n        ],\n        \"semantic_type\": \"\",\n        \"description\": \"\"\n      }\n    },\n    {\n      \"column\": \"acceleration\",\n      \"properties\": {\n        \"dtype\": \"number\",\n        \"std\": 2.7576889298126757,\n        \"min\": 8.0,\n        \"max\": 24.8,\n        \"num_unique_values\": 95,\n        \"samples\": [\n          14.7,\n          18.0,\n          14.3\n        ],\n        \"semantic_type\": \"\",\n        \"description\": \"\"\n      }\n    },\n    {\n      \"column\": \"model year\",\n      \"properties\": {\n        \"dtype\": \"number\",\n        \"std\": 3,\n        \"min\": 70,\n        \"max\": 82,\n        \"num_unique_values\": 13,\n        \"samples\": [\n          81,\n          79,\n          70\n        ],\n        \"semantic_type\": \"\",\n        \"description\": \"\"\n      }\n    },\n    {\n      \"column\": \"origin\",\n      \"properties\": {\n        \"dtype\": \"number\",\n        \"std\": 0,\n        \"min\": 1,\n        \"max\": 3,\n        \"num_unique_values\": 3,\n        \"samples\": [\n          1,\n          3,\n          2\n        ],\n        \"semantic_type\": \"\",\n        \"description\": \"\"\n      }\n    }\n  ]\n}"
            }
          },
          "metadata": {},
          "execution_count": 79
        }
      ]
    },
    {
      "cell_type": "code",
      "source": [
        "features = ['mpg', 'cylinders', 'displacement', 'horsepower', 'weight', 'acceleration']\n",
        "X = df_clean[features]"
      ],
      "metadata": {
        "id": "-ywifF6k3G2Y"
      },
      "execution_count": 80,
      "outputs": []
    },
    {
      "cell_type": "code",
      "source": [
        "scaler = StandardScaler()\n",
        "X_scaled = scaler.fit_transform(X)"
      ],
      "metadata": {
        "id": "Ac5oROTb8r30"
      },
      "execution_count": 81,
      "outputs": []
    },
    {
      "cell_type": "code",
      "source": [
        "target_idx = df_clean[df_clean['car name'].str.contains('toyota corona mark ii', case=False)].index\n"
      ],
      "metadata": {
        "id": "W7aY5Dyn9HbD"
      },
      "execution_count": 82,
      "outputs": []
    },
    {
      "cell_type": "code",
      "source": [
        "if len(target_idx) == 0:\n",
        "    print(\"Toyota Corona Mark II not found in dataset.\")\n",
        "else:\n",
        "  target_vector = X_scaled[target_idx[0]]"
      ],
      "metadata": {
        "id": "VA3BQ77D9Ymp"
      },
      "execution_count": 83,
      "outputs": []
    },
    {
      "cell_type": "code",
      "source": [
        "\n",
        "\n",
        "    dot_products = np.dot(X_scaled, target_vector)\n",
        "    dot_top_indices = dot_products.argsort()[::-1]\n",
        "    dot_top_indices = [i for i in dot_top_indices if i != target_idx[0]][:5]\n",
        "\n",
        "    print(\"Top 5 similar cars using DOT PRODUCT:\")\n",
        "    print(df_clean.iloc[dot_top_indices][['car name', 'mpg', 'horsepower', 'weight']])\n",
        "\n",
        "\n",
        ""
      ],
      "metadata": {
        "colab": {
          "base_uri": "https://localhost:8080/"
        },
        "id": "K8LztNqHMtRy",
        "outputId": "696d0a77-0564-40e4-f4c7-1b846d722634"
      },
      "execution_count": 84,
      "outputs": [
        {
          "output_type": "stream",
          "name": "stdout",
          "text": [
            "Top 5 similar cars using DOT PRODUCT:\n",
            "                car name   mpg  horsepower  weight\n",
            "111            maxda rx3  18.0        90.0    2124\n",
            "144        toyota corona  31.0        52.0    1649\n",
            "329  honda civic 1500 gl  44.6        67.0    1850\n",
            "343       toyota starlet  39.1        58.0    1755\n",
            "345     honda civic 1300  35.1        60.0    1760\n"
          ]
        }
      ]
    },
    {
      "cell_type": "markdown",
      "source": [
        "2.Find completely unique/orthogonal car to toyota corona mark ii"
      ],
      "metadata": {
        "id": "XC3sfb7HNdAv"
      }
    },
    {
      "cell_type": "code",
      "source": [
        "import pandas as pd\n",
        "import numpy as np\n",
        "from sklearn.preprocessing import StandardScaler\n",
        "from sklearn.metrics.pairwise import cosine_similarity\n"
      ],
      "metadata": {
        "id": "zamtzPNbNC5u"
      },
      "execution_count": 85,
      "outputs": []
    },
    {
      "cell_type": "code",
      "source": [
        "cos_similarities = cosine_similarity([target_vector], X_scaled)[0]"
      ],
      "metadata": {
        "id": "trpq5SIeOce4"
      },
      "execution_count": 86,
      "outputs": []
    },
    {
      "cell_type": "code",
      "source": [
        "min_dot_index = dot_products.argmin()\n",
        "most_orthogonal_dot = df_clean.iloc[min_dot_index]"
      ],
      "metadata": {
        "id": "e9kR_bPcN95a"
      },
      "execution_count": 87,
      "outputs": []
    },
    {
      "cell_type": "code",
      "source": [
        "min_cos_index = cos_similarities.argmin()\n",
        "most_orthogonal_cos = df_clean.iloc[min_cos_index]"
      ],
      "metadata": {
        "id": "jrN01d3sONJ-"
      },
      "execution_count": 88,
      "outputs": []
    },
    {
      "cell_type": "code",
      "source": [
        "print(\"Most orthogonal car based on DOT PRODUCT:\")\n",
        "print(most_orthogonal_dot[['car name', 'mpg', 'cylinders', 'displacement', 'horsepower', 'weight', 'acceleration']])\n",
        "\n",
        "print(\"\\nMost orthogonal car based on COSINE SIMILARITY:\")\n",
        "print(most_orthogonal_cos[['car name', 'mpg', 'cylinders', 'displacement', 'horsepower', 'weight', 'acceleration']])"
      ],
      "metadata": {
        "colab": {
          "base_uri": "https://localhost:8080/"
        },
        "id": "4YpbmhPfOfep",
        "outputId": "678a2a17-3f6f-461d-8b76-27fe34e1a91b"
      },
      "execution_count": 89,
      "outputs": [
        {
          "output_type": "stream",
          "name": "stdout",
          "text": [
            "Most orthogonal car based on DOT PRODUCT:\n",
            "car name        buick electra 225 custom\n",
            "mpg                                 12.0\n",
            "cylinders                              8\n",
            "displacement                       455.0\n",
            "horsepower                         225.0\n",
            "weight                              4951\n",
            "acceleration                        11.0\n",
            "Name: 95, dtype: object\n",
            "\n",
            "Most orthogonal car based on COSINE SIMILARITY:\n",
            "car name        cadillac eldorado\n",
            "mpg                          23.0\n",
            "cylinders                       8\n",
            "displacement                350.0\n",
            "horsepower                  125.0\n",
            "weight                       3900\n",
            "acceleration                 17.4\n",
            "Name: 298, dtype: object\n"
          ]
        }
      ]
    },
    {
      "cell_type": "markdown",
      "source": [
        "3. Project the data to a 2-dimentional space and visualize using scatter plot"
      ],
      "metadata": {
        "id": "g1dP3OKCOvSj"
      }
    },
    {
      "cell_type": "code",
      "source": [
        "from sklearn.decomposition import PCA\n",
        "import matplotlib.pyplot as plt"
      ],
      "metadata": {
        "id": "37RgMqcJPN4c"
      },
      "execution_count": 90,
      "outputs": []
    },
    {
      "cell_type": "code",
      "source": [
        "pca = PCA(n_components=2)\n",
        "X_pca = pca.fit_transform(X_scaled)"
      ],
      "metadata": {
        "id": "K2v7g4V-O6gj"
      },
      "execution_count": 91,
      "outputs": []
    },
    {
      "cell_type": "code",
      "source": [
        "target_index = df_clean[df_clean['car name'].str.contains('toyota corona mark ii', case=False)].index[0]\n",
        "cos_sim = cosine_similarity([X_scaled[target_index]], X_scaled)[0]\n",
        "most_orthogonal_index = cos_sim.argmin()\n"
      ],
      "metadata": {
        "id": "WYRDBaA_PQXJ"
      },
      "execution_count": 92,
      "outputs": []
    },
    {
      "cell_type": "code",
      "source": [
        "plt.figure(figsize=(10, 8))\n",
        "plt.scatter(X_pca[:, 0], X_pca[:, 1], alpha=0.6, c='gray', label='Other Cars')\n"
      ],
      "metadata": {
        "colab": {
          "base_uri": "https://localhost:8080/",
          "height": 693
        },
        "id": "V9-SIZrwPXHf",
        "outputId": "55f978b9-1c6a-43e4-d407-6e046fdde344"
      },
      "execution_count": 93,
      "outputs": [
        {
          "output_type": "execute_result",
          "data": {
            "text/plain": [
              "<matplotlib.collections.PathCollection at 0x7d49e16ddf90>"
            ]
          },
          "metadata": {},
          "execution_count": 93
        },
        {
          "output_type": "display_data",
          "data": {
            "text/plain": [
              "<Figure size 1000x800 with 1 Axes>"
            ],
            "image/png": "[encoded data removed]"
          },
          "metadata": {}
        }
      ]
    },
    {
      "cell_type": "code",
      "source": [
        "plt.scatter(X_pca[target_index, 0], X_pca[target_index, 1], color='blue', label='Toyota Corona Mark II', s=120, edgecolor='black')\n"
      ],
      "metadata": {
        "colab": {
          "base_uri": "https://localhost:8080/",
          "height": 447
        },
        "id": "eRHb0g23PrCW",
        "outputId": "cba48f57-ae9b-4456-afc3-c2e278214de2"
      },
      "execution_count": 94,
      "outputs": [
        {
          "output_type": "execute_result",
          "data": {
            "text/plain": [
              "<matplotlib.collections.PathCollection at 0x7d49e16e3690>"
            ]
          },
          "metadata": {},
          "execution_count": 94
        },
        {
          "output_type": "display_data",
          "data": {
            "text/plain": [
              "<Figure size 640x480 with 1 Axes>"
            ],
            "image/png": "[encoded data removed]"
          },
          "metadata": {}
        }
      ]
    },
    {
      "cell_type": "code",
      "source": [
        "plt.scatter(X_pca[most_orthogonal_index, 0], X_pca[most_orthogonal_index, 1], color='red', label='Most Orthogonal Car', s=120, edgecolor='black')\n"
      ],
      "metadata": {
        "colab": {
          "base_uri": "https://localhost:8080/",
          "height": 447
        },
        "id": "jiNDALQKP5HG",
        "outputId": "13c26edc-4d4b-408d-fd26-1c6b25c0cd10"
      },
      "execution_count": 95,
      "outputs": [
        {
          "output_type": "execute_result",
          "data": {
            "text/plain": [
              "<matplotlib.collections.PathCollection at 0x7d49e15af650>"
            ]
          },
          "metadata": {},
          "execution_count": 95
        },
        {
          "output_type": "display_data",
          "data": {
            "text/plain": [
              "<Figure size 640x480 with 1 Axes>"
            ],
            "image/png": "[encoded data removed]"
          },
          "metadata": {}
        }
      ]
    },
    {
      "cell_type": "code",
      "source": [
        "plt.text(X_pca[target_index, 0]+0.1, X_pca[target_index, 1], \"Corona Mark II\", fontsize=9)\n",
        "plt.text(X_pca[most_orthogonal_index, 0]+0.1, X_pca[most_orthogonal_index, 1], df_clean.iloc[most_orthogonal_index]['car name'], fontsize=9)\n"
      ],
      "metadata": {
        "colab": {
          "base_uri": "https://localhost:8080/",
          "height": 523
        },
        "id": "c3OMooR9QDw5",
        "outputId": "8f8636d4-f07a-4508-c359-f801437618c7"
      },
      "execution_count": 96,
      "outputs": [
        {
          "output_type": "execute_result",
          "data": {
            "text/plain": [
              "Text(1.9247292020993552, 1.2201213470145011, 'cadillac eldorado')"
            ]
          },
          "metadata": {},
          "execution_count": 96
        },
        {
          "output_type": "display_data",
          "data": {
            "text/plain": [
              "<Figure size 640x480 with 1 Axes>"
            ],
            "image/png": "[encoded data removed]"
          },
          "metadata": {}
        }
      ]
    },
    {
      "cell_type": "code",
      "source": [
        "plt.title('2D Projection of Car Features (PCA)')\n",
        "plt.xlabel('Principal Component 1')\n",
        "plt.ylabel('Principal Component 2')\n",
        "plt.legend()\n",
        "plt.grid(True)\n",
        "plt.show()"
      ],
      "metadata": {
        "colab": {
          "base_uri": "https://localhost:8080/",
          "height": 527
        },
        "id": "hHFObyB_QIyv",
        "outputId": "391d4595-5823-4769-9e0b-42e8f9a06ed8"
      },
      "execution_count": 97,
      "outputs": [
        {
          "output_type": "stream",
          "name": "stderr",
          "text": [
            "/tmp/ipython-input-97-733007277.py:4: UserWarning: No artists with labels found to put in legend.  Note that artists whose label start with an underscore are ignored when legend() is called with no argument.\n",
            "  plt.legend()\n"
          ]
        },
        {
          "output_type": "display_data",
          "data": {
            "text/plain": [
              "<Figure size 640x480 with 1 Axes>"
            ],
            "image/png": "[encoded data removed]"
          },
          "metadata": {}
        }
      ]
    },
    {
      "cell_type": "markdown",
      "source": [
        "4. Write a function that returns dot product of two list of numbers"
      ],
      "metadata": {
        "id": "OY-yBQQmQRhm"
      }
    },
    {
      "cell_type": "code",
      "source": [
        "def dot_product(a, b):\n",
        "\n",
        "    if len(a) != len(b):\n",
        "        raise ValueError(\"Vectors must be the same length\")\n",
        "\n",
        "    return sum(x * y for x, y in zip(a, b))\n",
        "\n",
        "\n",
        "vec1 = [1, 2, 3]\n",
        "vec2 = [4, 5, 6]\n",
        "result = dot_product(vec1, vec2)\n",
        "print(\"Dot product:\", result)\n"
      ],
      "metadata": {
        "colab": {
          "base_uri": "https://localhost:8080/"
        },
        "id": "w7e4p9-EQQtI",
        "outputId": "de8f81e7-771b-4ec5-ebec-7f2c81d9f5d7"
      },
      "execution_count": 98,
      "outputs": [
        {
          "output_type": "stream",
          "name": "stdout",
          "text": [
            "Dot product: 32\n"
          ]
        }
      ]
    },
    {
      "cell_type": "markdown",
      "source": [
        "5. Write a function that returns the projection of vector a onto vector b. Both a and b are given as list of numbers"
      ],
      "metadata": {
        "id": "w40H0ygsQ8GU"
      }
    },
    {
      "cell_type": "code",
      "source": [
        "import numpy as np\n",
        "\n",
        "def vector_projection(a, b):\n",
        "  a = np.array(a)\n",
        "  b = np.array(b)\n",
        "\n",
        "  if b.dot(b) == 0:\n",
        "        raise ValueError(\"Cannot project onto the zero vector\")\n",
        "\n",
        "  projection = (np.dot(a, b) / np.dot(b, b)) * b\n",
        "  return projection\n",
        "  a = [3, 4]\n",
        "  b = [1, 2]\n",
        "  proj = vector_projection_np(a, b)\n",
        "  print(\"Projection of a onto b:\", proj)"
      ],
      "metadata": {
        "id": "lbyrNiP6QzNU"
      },
      "execution_count": 99,
      "outputs": []
    },
    {
      "cell_type": "markdown",
      "source": [
        "6. Create a class Vector that supports addition, dot product, and magnitude"
      ],
      "metadata": {
        "id": "2aBaU5u8SXRT"
      }
    },
    {
      "cell_type": "code",
      "source": [
        "class Vector:\n",
        "    def __init__(self, components):\n",
        "        self.components = np.array(components, dtype=float)\n",
        "\n",
        "    def __add__(self, other):\n",
        "        if self.components.shape != other.components.shape:\n",
        "            raise ValueError(\"Vectors must be the same shape for addition\")\n",
        "        return Vector(self.components + other.components)\n",
        "\n",
        "    def dot(self, other):\n",
        "        if self.components.shape != other.components.shape:\n",
        "            raise ValueError(\"Vectors must be the same shape for dot product\")\n",
        "        return np.dot(self.components, other.components)\n",
        "\n",
        "    def magnitude(self):\n",
        "        return np.linalg.norm(self.components)\n",
        "\n",
        "    def __repr__(self):\n",
        "        return f\"Vector({self.components})\"\n",
        "v1 = Vector([1, 2, 3])\n",
        "v2 = Vector([4, 5, 6])\n",
        "\n",
        "print(\"v1 + v2 =\", v1 + v2)\n",
        "print(\"v1 • v2 =\", v1.dot(v2))\n",
        "print(\"|v1| =\", v1.magnitude())"
      ],
      "metadata": {
        "colab": {
          "base_uri": "https://localhost:8080/"
        },
        "id": "qlMuzP97SGYr",
        "outputId": "42e0a1a7-e002-40a1-f275-0e3b9baee4cb"
      },
      "execution_count": 101,
      "outputs": [
        {
          "output_type": "stream",
          "name": "stdout",
          "text": [
            "v1 + v2 = Vector([5. 7. 9.])\n",
            "v1 • v2 = 32.0\n",
            "|v1| = 3.7416573867739413\n"
          ]
        }
      ]
    },
    {
      "cell_type": "markdown",
      "source": [
        "7. Write a function that returns the L1 and L2 norms of a vector given as list"
      ],
      "metadata": {
        "id": "zH5VSG6yS61K"
      }
    },
    {
      "cell_type": "code",
      "source": [
        "def compute_norms(vector):\n",
        "  vec = np.array(vector, dtype=float)\n",
        "\n",
        "  l1 = np.sum(np.abs(vec))\n",
        "  l2 = np.sqrt(np.sum(vec ** 2))\n",
        "\n",
        "  return l1, l2\n",
        "  vec = [3, -4, 1]\n",
        "  l1, l2 = compute_norms(vec)\n",
        "  print(\"L1 norm:\", l1)\n",
        "  print(\"L2 norm:\", l2)"
      ],
      "metadata": {
        "id": "RGuwtA8vStJ6"
      },
      "execution_count": 105,
      "outputs": []
    }
  ]
}